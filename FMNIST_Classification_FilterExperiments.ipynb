{
 "cells": [
  {
   "cell_type": "markdown",
   "metadata": {},
   "source": [
    "# Experimenting with Filters in a Simple CNN (for FMNIST data)"
   ]
  },
  {
   "cell_type": "markdown",
   "metadata": {},
   "source": [
    "This is a simple classification model built for classifying the FMNIST dataset. The example closely follows the lessons available at Coursera's [Tensorflow Specialization](https://www.deeplearning.ai/tensorflow-in-practice/), taught by Andrew Ng and Lawerence Moroney. We use the tf.keras API to build a `Sequential` model in Keras that uses convolution (`Conv2D`), pooling (`MaxPooling2D`)and fully connected (`Dense`) layers to process FMNIST images and classify them."
   ]
  },
  {
   "cell_type": "code",
   "execution_count": 3,
   "metadata": {},
   "outputs": [],
   "source": [
    "import tensorflow as tf\n",
    "import numpy as np\n",
    "import matplotlib.pyplot as plt"
   ]
  },
  {
   "cell_type": "markdown",
   "metadata": {},
   "source": [
    "**Note:** We use Tensorflow version 1.x here. Equally, you could use any version of TF and this code should work."
   ]
  },
  {
   "cell_type": "code",
   "execution_count": 34,
   "metadata": {},
   "outputs": [
    {
     "name": "stdout",
     "output_type": "stream",
     "text": [
      "1.13.1\n"
     ]
    }
   ],
   "source": [
    "print(tf.__version__)"
   ]
  },
  {
   "cell_type": "code",
   "execution_count": 2,
   "metadata": {},
   "outputs": [
    {
     "name": "stdout",
     "output_type": "stream",
     "text": [
      "Downloading data from https://storage.googleapis.com/tensorflow/tf-keras-datasets/train-labels-idx1-ubyte.gz\n",
      "32768/29515 [=================================] - 0s 1us/step\n",
      "Downloading data from https://storage.googleapis.com/tensorflow/tf-keras-datasets/train-images-idx3-ubyte.gz\n",
      "26427392/26421880 [==============================] - 9s 0us/step\n",
      "Downloading data from https://storage.googleapis.com/tensorflow/tf-keras-datasets/t10k-labels-idx1-ubyte.gz\n",
      "8192/5148 [===============================================] - 0s 0us/step\n",
      "Downloading data from https://storage.googleapis.com/tensorflow/tf-keras-datasets/t10k-images-idx3-ubyte.gz\n",
      "4423680/4422102 [==============================] - 1s 0us/step\n"
     ]
    }
   ],
   "source": [
    "mnist = tf.keras.datasets.fashion_mnist\n",
    "(training_images, training_labels), (test_images, test_labels) = mnist.load_data()\n",
    "training_images=training_images / 255.0\n",
    "test_images=test_images / 255.0"
   ]
  },
  {
   "cell_type": "code",
   "execution_count": 19,
   "metadata": {},
   "outputs": [
    {
     "data": {
      "text/plain": [
       "(60000, 28, 28)"
      ]
     },
     "execution_count": 19,
     "metadata": {},
     "output_type": "execute_result"
    }
   ],
   "source": [
    "training_images.shape"
   ]
  },
  {
   "cell_type": "code",
   "execution_count": 20,
   "metadata": {},
   "outputs": [
    {
     "data": {
      "text/plain": [
       "(10000, 28, 28)"
      ]
     },
     "execution_count": 20,
     "metadata": {},
     "output_type": "execute_result"
    }
   ],
   "source": [
    "test_images.shape"
   ]
  },
  {
   "cell_type": "markdown",
   "metadata": {},
   "source": [
    "## Visualizing some of the sample images \n",
    "\n",
    "* FMNIST is a collection of fashion centric image data - different kinds of clothing essentially.\n",
    "* These are in grayscale, and have labels associated with them."
   ]
  },
  {
   "cell_type": "code",
   "execution_count": 18,
   "metadata": {},
   "outputs": [
    {
     "data": {
      "image/png": "[encoded data removed]",
      "text/plain": [
       "<Figure size 432x288 with 1 Axes>"
      ]
     },
     "metadata": {
      "needs_background": "light"
     },
     "output_type": "display_data"
    },
    {
     "data": {
      "image/png": "[encoded data removed]",
      "text/plain": [
       "<Figure size 432x288 with 1 Axes>"
      ]
     },
     "metadata": {
      "needs_background": "light"
     },
     "output_type": "display_data"
    }
   ],
   "source": [
    "plt.title('Image '+str(training_labels[0])+\" \"+str(training_images[0].shape))\n",
    "plt.imshow(training_images[0])\n",
    "plt.show()\n",
    "plt.title('Image '+str(training_labels[2])+\" \"+str(training_images[2].shape))\n",
    "plt.imshow(training_images[2])\n",
    "plt.show()"
   ]
  },
  {
   "cell_type": "markdown",
   "metadata": {},
   "source": [
    "## Preparing the Data: Reshaping the Tensors"
   ]
  },
  {
   "cell_type": "markdown",
   "metadata": {},
   "source": [
    "We have to reshape the input tensors to be able to feed the 28x28 grayscale (single channel) images to the neural network we're building for classifying the records based on the labels. The original shape (count x depth_pixels x height_pixels) doesn't indicate the number of channels. Therefore, we reshape these tensors into a list of single channel images each."
   ]
  },
  {
   "cell_type": "code",
   "execution_count": 21,
   "metadata": {},
   "outputs": [],
   "source": [
    "xtr, xts = training_images.reshape(60000,28,28,1), test_images.reshape(10000,28,28,1)"
   ]
  },
  {
   "cell_type": "markdown",
   "metadata": {},
   "source": [
    "We now build a sequential model in tf.keras, with one convolutional layer, with a relu activation, and a pooling layer to compress the convolution output. We then build fully connected layers towards the latter part of the network finally resulting in a 10 class softmax output."
   ]
  },
  {
   "cell_type": "markdown",
   "metadata": {},
   "source": [
    "## Defining a CNN"
   ]
  },
  {
   "cell_type": "markdown",
   "metadata": {},
   "source": [
    "The benefit of a convolutional network is to detect key features in the image that may be used to differentiate images from one another and associate them with different class labels. Here we use 32 filters in the convolutional layer into which we feed the 60000 training images from the FMNIST dataset. \n",
    "\n",
    "The below model has the following characteristics:\n",
    "1. 32 filters in the Conv2D layer\n",
    "2. A 3x3 size filter is used in each case\n",
    "3. ReLU (Rectified Linear Unit) activation on the convolutional layer\n",
    "4. 2X2 Max Pooling layer to compress the image post-convolution.\n",
    "5. Adam optimizer - we could potentially use SGD, Nesterov, or RMSProp, but we'll just go with Adam here.\n",
    "6. We print the accuracy in the training history for the model."
   ]
  },
  {
   "cell_type": "code",
   "execution_count": 22,
   "metadata": {},
   "outputs": [],
   "source": [
    "model = tf.keras.models.Sequential([\n",
    "  tf.keras.layers.Conv2D(32, (3,3), activation='relu', input_shape=(28, 28, 1)),\n",
    "  tf.keras.layers.MaxPooling2D(2, 2),\n",
    "  tf.keras.layers.Flatten(),\n",
    "  tf.keras.layers.Dense(128, activation='relu'),\n",
    "  tf.keras.layers.Dense(10, activation='softmax')\n",
    "])\n",
    "model.compile(optimizer='adam', loss='sparse_categorical_crossentropy', metrics=['accuracy'])"
   ]
  },
  {
   "cell_type": "code",
   "execution_count": 23,
   "metadata": {
    "scrolled": true
   },
   "outputs": [
    {
     "name": "stdout",
     "output_type": "stream",
     "text": [
      "_________________________________________________________________\n",
      "Layer (type)                 Output Shape              Param #   \n",
      "=================================================================\n",
      "conv2d_1 (Conv2D)            (None, 26, 26, 32)        320       \n",
      "_________________________________________________________________\n",
      "max_pooling2d_1 (MaxPooling2 (None, 13, 13, 32)        0         \n",
      "_________________________________________________________________\n",
      "flatten_1 (Flatten)          (None, 5408)              0         \n",
      "_________________________________________________________________\n",
      "dense_2 (Dense)              (None, 128)               692352    \n",
      "_________________________________________________________________\n",
      "dense_3 (Dense)              (None, 10)                1290      \n",
      "=================================================================\n",
      "Total params: 693,962\n",
      "Trainable params: 693,962\n",
      "Non-trainable params: 0\n",
      "_________________________________________________________________\n"
     ]
    }
   ],
   "source": [
    "model.summary()"
   ]
  },
  {
   "cell_type": "code",
   "execution_count": 25,
   "metadata": {},
   "outputs": [
    {
     "name": "stdout",
     "output_type": "stream",
     "text": [
      "Epoch 1/10\n",
      "60000/60000 [==============================] - 7s 122us/sample - loss: 0.3976 - acc: 0.8602\n",
      "Epoch 2/10\n",
      "60000/60000 [==============================] - 7s 119us/sample - loss: 0.2674 - acc: 0.9023\n",
      "Epoch 3/10\n",
      "60000/60000 [==============================] - ETA: 0s - loss: 0.2216 - acc: 0.918 - 8s 126us/sample - loss: 0.2215 - acc: 0.9187\n",
      "Epoch 4/10\n",
      "60000/60000 [==============================] - 7s 125us/sample - loss: 0.1872 - acc: 0.9316\n",
      "Epoch 5/10\n",
      "60000/60000 [==============================] - 7s 124us/sample - loss: 0.1593 - acc: 0.9408\n",
      "Epoch 6/10\n",
      "60000/60000 [==============================] - 7s 123us/sample - loss: 0.1363 - acc: 0.9485\n",
      "Epoch 7/10\n",
      "60000/60000 [==============================] - 7s 125us/sample - loss: 0.1166 - acc: 0.9568\n",
      "Epoch 8/10\n",
      "60000/60000 [==============================] - 7s 125us/sample - loss: 0.0975 - acc: 0.9634\n",
      "Epoch 9/10\n",
      "60000/60000 [==============================] - 8s 134us/sample - loss: 0.0821 - acc: 0.9696\n",
      "Epoch 10/10\n",
      "60000/60000 [==============================] - 8s 137us/sample - loss: 0.0714 - acc: 0.9728\n"
     ]
    },
    {
     "data": {
      "text/plain": [
       "<tensorflow.python.keras.callbacks.History at 0x195d1f6be48>"
      ]
     },
     "execution_count": 25,
     "metadata": {},
     "output_type": "execute_result"
    }
   ],
   "source": [
    "model.fit(xtr, training_labels, epochs=10)"
   ]
  },
  {
   "cell_type": "code",
   "execution_count": 26,
   "metadata": {},
   "outputs": [
    {
     "name": "stdout",
     "output_type": "stream",
     "text": [
      "10000/10000 [==============================] - 1s 74us/sample - loss: 0.3148 - acc: 0.9135\n",
      "0.9135\n"
     ]
    }
   ],
   "source": [
    "test_loss, test_acc = model.evaluate(xts, test_labels)\n",
    "print(test_acc)"
   ]
  },
  {
   "cell_type": "markdown",
   "metadata": {},
   "source": [
    "## Early stopping\n",
    "\n",
    "If we're targeting the accuracy of the network to be in the ballpark of 99%, we could allow the network to train until then and then stop the training process. We can do this by sending callbacks to the fit() method of the model, and stopping training when a certain loss or accuracy has reached."
   ]
  },
  {
   "cell_type": "code",
   "execution_count": 27,
   "metadata": {},
   "outputs": [],
   "source": [
    "class callbackClass(tf.keras.callbacks.Callback):\n",
    "      def on_epoch_end(self, epoch, logs={}):\n",
    "            if(logs.get('acc')>0.99):\n",
    "                print(\"\\nReached 99% accuracy so cancelling training!\")\n",
    "                self.model.stop_training = True"
   ]
  },
  {
   "cell_type": "code",
   "execution_count": 28,
   "metadata": {},
   "outputs": [],
   "source": [
    "accuracy_filter = callbackClass()"
   ]
  },
  {
   "cell_type": "markdown",
   "metadata": {},
   "source": [
    "Note that the model starts training from the previous saved state of weights. This is because we had executed training earlier, and are now essentially continuing that process for an additional 20 epochs, as long as we don't reach 99% accuracy."
   ]
  },
  {
   "cell_type": "code",
   "execution_count": 29,
   "metadata": {},
   "outputs": [
    {
     "name": "stdout",
     "output_type": "stream",
     "text": [
      "Epoch 1/20\n",
      "60000/60000 [==============================] - 7s 120us/sample - loss: 0.0591 - acc: 0.9786\n",
      "Epoch 2/20\n",
      "60000/60000 [==============================] - 7s 119us/sample - loss: 0.0523 - acc: 0.9809\n",
      "Epoch 3/20\n",
      "60000/60000 [==============================] - 8s 131us/sample - loss: 0.0423 - acc: 0.9846\n",
      "Epoch 4/20\n",
      "60000/60000 [==============================] - 7s 120us/sample - loss: 0.0387 - acc: 0.9858\n",
      "Epoch 5/20\n",
      "60000/60000 [==============================] - 8s 125us/sample - loss: 0.0349 - acc: 0.9877\n",
      "Epoch 6/20\n",
      "60000/60000 [==============================] - 8s 129us/sample - loss: 0.0304 - acc: 0.9897\n",
      "Epoch 7/20\n",
      "59616/60000 [============================>.] - ETA: 0s - loss: 0.0269 - acc: 0.9903\n",
      "Reached 99% accuracy so cancelling training!\n",
      "60000/60000 [==============================] - 8s 127us/sample - loss: 0.0269 - acc: 0.9903\n"
     ]
    },
    {
     "data": {
      "text/plain": [
       "<tensorflow.python.keras.callbacks.History at 0x195c09f82b0>"
      ]
     },
     "execution_count": 29,
     "metadata": {},
     "output_type": "execute_result"
    }
   ],
   "source": [
    "model.fit(xtr, training_labels, epochs=20, callbacks=[accuracy_filter])"
   ]
  },
  {
   "cell_type": "markdown",
   "metadata": {},
   "source": [
    "As you can see here, the training stopped at an accuracy score of 99.03%. The training always stops at the end of an epoch here, given the way the `callbackClass.on_epoch_end()` method has been implemented."
   ]
  },
  {
   "cell_type": "markdown",
   "metadata": {},
   "source": [
    "## Experimenting with more filters"
   ]
  },
  {
   "cell_type": "markdown",
   "metadata": {},
   "source": [
    "We now introduce 128 filters in the first layer, and in doing so, build a new model, `model2`. All other parameters remain unchanged."
   ]
  },
  {
   "cell_type": "code",
   "execution_count": 31,
   "metadata": {},
   "outputs": [],
   "source": [
    "model2 = tf.keras.models.Sequential([\n",
    "  tf.keras.layers.Conv2D(128, (3,3), activation='relu', input_shape=(28, 28, 1)),\n",
    "  tf.keras.layers.MaxPooling2D(2, 2),\n",
    "  tf.keras.layers.Flatten(),\n",
    "  tf.keras.layers.Dense(128, activation='relu'),\n",
    "  tf.keras.layers.Dense(10, activation='softmax')\n",
    "])\n",
    "model2.compile(optimizer='adam', loss='sparse_categorical_crossentropy', metrics=['accuracy'])"
   ]
  },
  {
   "cell_type": "code",
   "execution_count": 32,
   "metadata": {
    "scrolled": true
   },
   "outputs": [
    {
     "name": "stdout",
     "output_type": "stream",
     "text": [
      "_________________________________________________________________\n",
      "Layer (type)                 Output Shape              Param #   \n",
      "=================================================================\n",
      "conv2d_3 (Conv2D)            (None, 26, 26, 128)       1280      \n",
      "_________________________________________________________________\n",
      "max_pooling2d_3 (MaxPooling2 (None, 13, 13, 128)       0         \n",
      "_________________________________________________________________\n",
      "flatten_3 (Flatten)          (None, 21632)             0         \n",
      "_________________________________________________________________\n",
      "dense_6 (Dense)              (None, 128)               2769024   \n",
      "_________________________________________________________________\n",
      "dense_7 (Dense)              (None, 10)                1290      \n",
      "=================================================================\n",
      "Total params: 2,771,594\n",
      "Trainable params: 2,771,594\n",
      "Non-trainable params: 0\n",
      "_________________________________________________________________\n"
     ]
    }
   ],
   "source": [
    "model2.summary()"
   ]
  },
  {
   "cell_type": "markdown",
   "metadata": {},
   "source": [
    "Let's now call the fit() method on the new model, to experiment with it and see how quickly it gets to 99% accuracy. Training here happens slower in each epoch, because the number of filters has been increased many fold, and there is likely to be a proportionate increase in the amount of time to get through each epoch.\n",
    "\n",
    "We observe that:\n",
    "\n",
    "1. Compared to `model` with 32 filters, `model2` reaches higher accuracy rates in earlier epochs, starting off with a slightly greater accuracy in Epoch 1\n",
    "2. Each epoch, as explained earlier, takes more time to complete because of the increased number of filters.\n",
    "3. At the end of 10 epochs, the original model had 97.28% accuracy, whereas `model2` has reached this milestone in epoch 9, while finishing epoch 10 at 97.97% accuracy. We're getting very close by epoch 10!\n",
    "4. Finally, `model2` was able to reach 99% accuracy 2 full epochs earlier than `model`"
   ]
  },
  {
   "cell_type": "code",
   "execution_count": 33,
   "metadata": {},
   "outputs": [
    {
     "name": "stdout",
     "output_type": "stream",
     "text": [
      "Epoch 1/20\n",
      "60000/60000 [==============================] - 17s 282us/sample - loss: 0.3719 - acc: 0.8662\n",
      "Epoch 2/20\n",
      "60000/60000 [==============================] - 17s 280us/sample - loss: 0.2524 - acc: 0.9082\n",
      "Epoch 3/20\n",
      "60000/60000 [==============================] - 17s 282us/sample - loss: 0.2060 - acc: 0.9239\n",
      "Epoch 4/20\n",
      "60000/60000 [==============================] - 17s 291us/sample - loss: 0.1685 - acc: 0.9380\n",
      "Epoch 5/20\n",
      "60000/60000 [==============================] - 18s 303us/sample - loss: 0.1414 - acc: 0.9471\n",
      "Epoch 6/20\n",
      "60000/60000 [==============================] - 19s 320us/sample - loss: 0.1166 - acc: 0.9576\n",
      "Epoch 7/20\n",
      "60000/60000 [==============================] - 20s 329us/sample - loss: 0.0962 - acc: 0.9647\n",
      "Epoch 8/20\n",
      "60000/60000 [==============================] - 20s 339us/sample - loss: 0.0801 - acc: 0.9712\n",
      "Epoch 9/20\n",
      "60000/60000 [==============================] - 21s 348us/sample - loss: 0.0665 - acc: 0.9750\n",
      "Epoch 10/20\n",
      "60000/60000 [==============================] - 21s 348us/sample - loss: 0.0565 - acc: 0.9798\n",
      "Epoch 11/20\n",
      "60000/60000 [==============================] - 23s 377us/sample - loss: 0.0490 - acc: 0.9827\n",
      "Epoch 12/20\n",
      "60000/60000 [==============================] - 22s 365us/sample - loss: 0.0398 - acc: 0.9858\n",
      "Epoch 13/20\n",
      "60000/60000 [==============================] - 22s 372us/sample - loss: 0.0327 - acc: 0.9883\n",
      "Epoch 14/20\n",
      "60000/60000 [==============================] - 22s 373us/sample - loss: 0.0328 - acc: 0.9887\n",
      "Epoch 15/20\n",
      "59904/60000 [============================>.] - ETA: 0s - loss: 0.0255 - acc: 0.9912\n",
      "Reached 99% accuracy so cancelling training!\n",
      "60000/60000 [==============================] - 23s 385us/sample - loss: 0.0254 - acc: 0.9912\n"
     ]
    },
    {
     "data": {
      "text/plain": [
       "<tensorflow.python.keras.callbacks.History at 0x196b3f1be10>"
      ]
     },
     "execution_count": 33,
     "metadata": {},
     "output_type": "execute_result"
    }
   ],
   "source": [
    "model2.fit(xtr, training_labels, epochs=20, callbacks=[accuracy_filter])"
   ]
  },
  {
   "cell_type": "markdown",
   "metadata": {},
   "source": [
    "## Summary\n",
    "\n",
    "We've done a little experiment with scaled MNIST data to see how filters affect model performance. We could do more such experiments with other hyperparameters, such as the following:\n",
    "1. The filter size and pooling size\n",
    "2. Additional convolutional layers\n",
    "3. Strides used in the convolutions\n",
    "\n",
    "Feel free to fork and use the notebook to experiment with these models!"
   ]
  },
  {
   "cell_type": "code",
   "execution_count": null,
   "metadata": {},
   "outputs": [],
   "source": []
  }
 ],
 "metadata": {
  "kernelspec": {
   "display_name": "Python 3",
   "language": "python",
   "name": "python3"
  },
  "language_info": {
   "codemirror_mode": {
    "name": "ipython",
    "version": 3
   },
   "file_extension": ".py",
   "mimetype": "text/x-python",
   "name": "python",
   "nbconvert_exporter": "python",
   "pygments_lexer": "ipython3",
   "version": "3.7.1"
  }
 },
 "nbformat": 4,
 "nbformat_minor": 4
}
